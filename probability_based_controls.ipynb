{
 "cells": [
  {
   "cell_type": "code",
   "execution_count": 4,
   "id": "8e78dca6-2fc9-4543-bdcf-4bd580dd8a05",
   "metadata": {},
   "outputs": [],
   "source": [
    "import numpy as np\n",
    "import pandas as pd\n",
    "from Bio import SeqIO"
   ]
  },
  {
   "cell_type": "code",
   "execution_count": 5,
   "id": "b188df35-5edf-49e1-832f-ca6396b16a6b",
   "metadata": {},
   "outputs": [],
   "source": [
    "species = [\"celegans\", \"hsapiens\", \"pfalciparum\", \"scerevisiae\"]\n",
    "num_sequences = {\n",
    "    \"athaliana\":22703,\n",
    "    \"dmelanogaster\":16972,\n",
    "    \"celegans\":7120, \n",
    "    \"hsapiens\": 29598,\n",
    "    \"pfalciparum\":5597,\n",
    "    \"scerevisiae\":5117\n",
    "}\n"
   ]
  },
  {
   "cell_type": "code",
   "execution_count": null,
   "id": "02822a0e-ecd9-4503-ad74-037531ce3c36",
   "metadata": {},
   "outputs": [],
   "source": [
    "def get_probability_dataframe(seq_array):\n",
    "    n_positions = seq_array.shape[1]\n",
    "    nucleotides = ['A', 'T', 'C', 'G']\n",
    "    prob_df = pd.DataFrame(0, index=nucleotides, columns=range(n_positions), dtype=float)\n",
    "\n",
    "    for nucleotide in nucleotides:\n",
    "        nucleotide_counts = (seq_array == nucleotide).sum(axis=0)\n",
    "        prob_df.loc[nucleotide] = nucleotide_counts / len(sequences)\n",
    "    return prob_df\n",
    "\n",
    "for spec in species:\n",
    "    sequences = [str(record.seq) for record in SeqIO.parse(f\"/Users/tennisnyjmac/Desktop/Promoters/PromoterShape/raw_promoter_sequences/{spec}_200.fa\", \"fasta\")]\n",
    "    seq_array = np.array([list(seq) for seq in sequences])\n",
    "\n",
    "    prob_df = get_probability_dataframe(seq_array)\n",
    "    print(spec, prob_df)\n",
    "    "
   ]
  },
  {
   "cell_type": "code",
   "execution_count": null,
   "id": "df1bbb35-1711-476f-9024-3930f0c35a0a",
   "metadata": {},
   "outputs": [],
   "source": [
    "for spec in species:\n",
    "    sequences = [str(record.seq) for record in SeqIO.parse(f\"/Users/tennisnyjmac/Desktop/Promoters/PromoterShape/raw_promoter_sequences/{spec}_200.fa\", \"fasta\")]\n",
    "    seq_array = np.array([list(seq) for seq in sequences])\n",
    "\n",
    "    # I get the dataframe with probabilities of each nucleotide occurrence\n",
    "    prob_df = get_probability_dataframe(seq_array)\n",
    "\n",
    "    # I collect corresponding number of sequences generated based on the prob_df\n",
    "    num = num_sequences[spec]\n",
    "    sequence_length = seq_array.shape[1]\n",
    "    generated_sequences = []\n",
    "\n",
    "    for _ in range(num):\n",
    "        sequence = \"\"\n",
    "        for pos in range(sequence_length):\n",
    "            probabilities = prob_df.loc[:, pos].values\n",
    "            probabilities = probabilities / probabilities.sum()\n",
    "            nucleotides = prob_df.index.values\n",
    "            nucleotide = np.random.choice(nucleotides, p=probabilities)\n",
    "            sequence += nucleotide\n",
    "        generated_sequences.append(sequence)\n",
    "        #print(sequence)\n",
    "\n",
    "    # Write out sequences in a fasta file\n",
    "    with open(f\"{spec}_probability_based_control_sequences.fa\", \"w\") as file:\n",
    "        for i, sequence in enumerate(generated_sequences):\n",
    "            file.write(f\">Sequence_{i+1}\\n{sequence}\\n\")"
   ]
  }
 ],
 "metadata": {
  "kernelspec": {
   "display_name": "Python 3 (ipykernel)",
   "language": "python",
   "name": "python3"
  },
  "language_info": {
   "codemirror_mode": {
    "name": "ipython",
    "version": 3
   },
   "file_extension": ".py",
   "mimetype": "text/x-python",
   "name": "python",
   "nbconvert_exporter": "python",
   "pygments_lexer": "ipython3",
   "version": "3.9.19"
  }
 },
 "nbformat": 4,
 "nbformat_minor": 5
}
