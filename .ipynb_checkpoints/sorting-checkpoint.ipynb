{
 "cells": [
  {
   "cell_type": "markdown",
   "id": "831ab3f2-90ae-4395-a049-daa85d05a0d7",
   "metadata": {},
   "source": [
    "### Bubble sorting"
   ]
  },
  {
   "cell_type": "code",
   "execution_count": null,
   "id": "4c0d7eed-c1f2-465c-aecb-6baf247d9895",
   "metadata": {},
   "outputs": [],
   "source": [
    "def bubble(a:list, n:int) -> list:\n",
    "    for i in range(n-1):\n",
    "        for j in range(n-1):\n",
    "            if a[j] > a[j+1]:\n",
    "                a[j],a[j+1] = a[j+1],a[j]\n",
    "    return a     "
   ]
  },
  {
   "cell_type": "code",
   "execution_count": 27,
   "id": "622c5e71-c219-4bd2-bb39-839f423ae4bd",
   "metadata": {},
   "outputs": [
    {
     "data": {
      "text/plain": [
       "[1, 3, 4, 5]"
      ]
     },
     "execution_count": 27,
     "metadata": {},
     "output_type": "execute_result"
    }
   ],
   "source": [
    "a = [5,4,3,1]\n",
    "bubble(a, len(a))"
   ]
  },
  {
   "cell_type": "markdown",
   "id": "dd8158be-afc3-4844-8b9f-b1207d721b49",
   "metadata": {},
   "source": [
    "Реализуйте алгоритм сортировки пузырьком. Выведите число фаз, во время которых менялся порядок элементов в массиве.\n",
    "\n",
    "На вход подается перестановка чисел от 1 до n (1≤n≤1000), разделенных пробелами."
   ]
  },
  {
   "cell_type": "code",
   "execution_count": 23,
   "id": "73f05705-7196-4c7d-be59-4c0b897f8b3c",
   "metadata": {},
   "outputs": [],
   "source": [
    "def bubble_with_counter(a:list, n:int) -> list:\n",
    "    counter = 0\n",
    "    while True:\n",
    "        swapped = False\n",
    "        for i in range(n-1):\n",
    "            if a[i] > a[i+1]:\n",
    "                a[i], a[i+1] = a[i+1], a[i]\n",
    "                swapped = True\n",
    "    \n",
    "        if swapped == True:\n",
    "            counter += 1\n",
    "            print(a, )\n",
    "        else:\n",
    "            break\n",
    "    return counter"
   ]
  },
  {
   "cell_type": "code",
   "execution_count": 25,
   "id": "3f8dfaad-e531-41cf-9e9b-40958682b04e",
   "metadata": {},
   "outputs": [
    {
     "name": "stdin",
     "output_type": "stream",
     "text": [
      " 4 2 1 3\n"
     ]
    },
    {
     "name": "stdout",
     "output_type": "stream",
     "text": [
      "[2, 1, 3, 4] 1\n",
      "[1, 2, 3, 4] 2\n"
     ]
    },
    {
     "data": {
      "text/plain": [
       "2"
      ]
     },
     "execution_count": 25,
     "metadata": {},
     "output_type": "execute_result"
    }
   ],
   "source": [
    "a = [int(x) for x in input().split(\" \")]\n",
    "n = len(a)\n",
    "bubble_with_counter(a,n)"
   ]
  },
  {
   "cell_type": "markdown",
   "id": "8fbc843d-9c98-4c91-b596-0f69a8266bfc",
   "metadata": {},
   "source": [
    "### Insertions sorting"
   ]
  },
  {
   "cell_type": "code",
   "execution_count": 47,
   "id": "e3981a55-6fbd-47bc-99ef-de35e38ad65b",
   "metadata": {},
   "outputs": [],
   "source": [
    "def insertions(a:list, n:int):\n",
    "    for i in range(n-1):\n",
    "        j = i + 1\n",
    "        while j > 0 and (a[j-1] > a[j]):\n",
    "            a[j-1],a[j] = a[j],a[j-1]\n",
    "            j -= 1\n",
    "    return a\n",
    "        "
   ]
  },
  {
   "cell_type": "code",
   "execution_count": 48,
   "id": "e4438833-a1db-437d-948c-964ca9ae104d",
   "metadata": {},
   "outputs": [
    {
     "data": {
      "text/plain": [
       "[1, 3, 4, 5]"
      ]
     },
     "execution_count": 48,
     "metadata": {},
     "output_type": "execute_result"
    }
   ],
   "source": [
    "a = [5,1,4,3]\n",
    "\n",
    "insertions(a, len(a))"
   ]
  },
  {
   "cell_type": "markdown",
   "id": "aa525e41-7cca-4595-9315-8412b861dc3f",
   "metadata": {},
   "source": [
    "Реализуйте алгоритм сортировки вставками. \n",
    "Выведите число пар соседних элементов, которые были поменяны местами в процессе сортировки.\n"
   ]
  },
  {
   "cell_type": "code",
   "execution_count": 53,
   "id": "b8c2d9f2-de42-4c61-b861-8617dc8edb6d",
   "metadata": {},
   "outputs": [],
   "source": [
    "def insertions_with_counter(a:list, n:int):\n",
    "    counter = 0\n",
    "    for i in range(n-1):\n",
    "        j = i + 1\n",
    "        while j > 0 and (a[j-1] > a[j]):\n",
    "            a[j-1],a[j] = a[j],a[j-1]\n",
    "            j -= 1\n",
    "            counter += 1\n",
    "    return counter\n",
    "        "
   ]
  },
  {
   "cell_type": "code",
   "execution_count": 54,
   "id": "7e4836d7-b984-4b73-bfaa-fc917df58d20",
   "metadata": {},
   "outputs": [
    {
     "name": "stdin",
     "output_type": "stream",
     "text": [
      " 4 2 1 3\n"
     ]
    },
    {
     "data": {
      "text/plain": [
       "4"
      ]
     },
     "execution_count": 54,
     "metadata": {},
     "output_type": "execute_result"
    }
   ],
   "source": [
    "a = [int(x) for x in input().split(\" \")]\n",
    "n = len(a)\n",
    "insertions_with_counter(a,n)"
   ]
  },
  {
   "cell_type": "markdown",
   "id": "0cdf8b50-a6d1-4530-a350-c73a3437aa96",
   "metadata": {},
   "source": [
    "### Selection sorting"
   ]
  },
  {
   "cell_type": "code",
   "execution_count": 78,
   "id": "f3125f1d-48e3-4861-91b8-8fba68b390e9",
   "metadata": {},
   "outputs": [],
   "source": [
    "def selection(a, n):\n",
    "    counter = 0\n",
    "\n",
    "    for i in range(n - 1):\n",
    "        minimum_idx = i + a[i:].index(min(a[i:]))\n",
    "\n",
    "        if i != minimum_idx:\n",
    "            distance = minimum_idx - i\n",
    "            a[i], a[minimum_idx] = a[minimum_idx], a[i]\n",
    "            counter += distance\n",
    "            \n",
    "            print(a, i, minimum_idx, distance)\n",
    "\n",
    "    return counter\n",
    "\n"
   ]
  },
  {
   "cell_type": "markdown",
   "id": "20fd4707-0910-4d05-8ac7-cc063e4bac7d",
   "metadata": {},
   "source": [
    "Рассмотрим реализацию алгоритма сортировки выбором, который на каждой итерации находит минимальный элемент в неотсортированной части массива и меняет его с первым элементом в этой части. Назовем расстоянием обмена разность индексов элементов, которые меняются местами.\n",
    "\n",
    "На вход подается \n",
    "n\n",
    "−\n",
    "1\n",
    "n−1 (\n",
    "2\n",
    "≤\n",
    "n\n",
    "≤\n",
    "1000\n",
    "2≤n≤1000) чисел – расстояния обмена, полученные в процессе работы алгоритма сортировки выбором. Например, для массива \n",
    "[\n",
    "4\n",
    ",\n",
    "1\n",
    ",\n",
    "3\n",
    ",\n",
    "5\n",
    ",\n",
    "2\n",
    "]\n",
    "[4,1,3,5,2], при сортировке будут выведены расстояния \n",
    "[\n",
    "1\n",
    ",\n",
    "3\n",
    ",\n",
    "0\n",
    ",\n",
    "1\n",
    "]\n",
    "[1,3,0,1].\n",
    "\n",
    "Выведите исходную перестановку чисел от \n",
    "1\n",
    "1 до \n",
    "n\n",
    "n, по которой были получены данные расстояния обмена."
   ]
  },
  {
   "cell_type": "code",
   "execution_count": 15,
   "id": "bf902245-6543-4393-903f-9fe149ae1a0c",
   "metadata": {},
   "outputs": [
    {
     "name": "stdout",
     "output_type": "stream",
     "text": [
      "[1, 2, 3, 5, 4] 4 4 5\n",
      "[1, 2, 3, 5, 4] 3 2 3\n",
      "[1, 4, 3, 5, 2] 2 4 4\n",
      "[4, 1, 3, 5, 2] 1 1 4\n"
     ]
    },
    {
     "data": {
      "text/plain": [
       "[4, 1, 3, 5, 2]"
      ]
     },
     "execution_count": 15,
     "metadata": {},
     "output_type": "execute_result"
    }
   ],
   "source": [
    "def reverse_selection(a):\n",
    "    n = len(a) + 1\n",
    "    array = list(range(1,n+1))\n",
    "\n",
    "    for i in range(n-2,-1,-1):\n",
    "        number = array[i]\n",
    "        position_for_swap = i + a[i]\n",
    "        number_to_swap = array[position_for_swap]\n",
    "        array[i], array[position_for_swap] = number_to_swap, number\n",
    "        print(array, number, position_for_swap, number_to_swap)\n",
    "    return array\n",
    "    \n",
    "reverse_selection([1,3,0,1])\n",
    "\n",
    "\n"
   ]
  },
  {
   "cell_type": "code",
   "execution_count": 8,
   "id": "45024763-bf20-4d43-8982-d322bcee418f",
   "metadata": {},
   "outputs": [
    {
     "name": "stdin",
     "output_type": "stream",
     "text": [
      " 1 3 0 1\n"
     ]
    }
   ],
   "source": [
    "a = [int(x) for x in input().split(\" \")]\n",
    "result = selection_with_counter(a)"
   ]
  },
  {
   "cell_type": "code",
   "execution_count": 9,
   "id": "1063b85b-e707-4af2-986b-aab3277d865e",
   "metadata": {},
   "outputs": [
    {
     "data": {
      "text/plain": [
       "[2, 1, 1]"
      ]
     },
     "execution_count": 9,
     "metadata": {},
     "output_type": "execute_result"
    }
   ],
   "source": [
    "def reconstruct_array(swap_distances):\n",
    "    n = len(swap_distances) + 1\n",
    "    arr = list(range(1, n + 1))\n",
    "    \n",
    "    for i in range(n - 2, -1, -1):\n",
    "        swap_idx = i + swap_distances[i]\n",
    "        arr[i], arr[swap_idx] = arr[swap_idx], arr[i]\n",
    "    \n",
    "    return arr\n",
    "\n",
    "# Example input\n",
    "swap_distances = list(map(int, input().split()))\n",
    "result = reconstruct_array(swap_distances)\n",
    "print(\" \".join(map(str, result)))"
   ]
  },
  {
   "cell_type": "markdown",
   "id": "7e4d641b-0ecf-4746-9ec6-db4c4396bd04",
   "metadata": {},
   "source": [
    "Реализуйте алгоритм сортировки выбором, который на каждой итерации находит минимальный элемент в неотсортированной части массива и меняет его с первым элементом в этой части. Назовем расстоянием обмена разность индексов элементов, которые меняются местами. Выведите сумму всех расстояний обмена, произошедших в процессе сортировки."
   ]
  },
  {
   "cell_type": "markdown",
   "id": "8016e67d-ab0b-4456-8fae-54ac43f9c008",
   "metadata": {},
   "source": [
    "### Inversion"
   ]
  },
  {
   "cell_type": "markdown",
   "id": "7b25db54-2d28-406e-a24b-6dd01fdebcff",
   "metadata": {},
   "source": [
    "Инверсия это пара индексов (i,j), такая что  i<j и элементы a[i]>a[j].\n",
    "Другими словами, инверсия это пара элементов с неправильным порядком в массиве. \n",
    "Найдите число инверсий в заданном массиве."
   ]
  },
  {
   "cell_type": "code",
   "execution_count": 83,
   "id": "600d6932-5d4b-4810-a9ed-b00802a97398",
   "metadata": {},
   "outputs": [],
   "source": [
    "def inversions(a,n):\n",
    "    counter = 0\n",
    "    for i in range(n-1):\n",
    "        for j in range(i+1,n):\n",
    "            if a[i]>a[j]:\n",
    "                counter+=1\n",
    "    return counter"
   ]
  },
  {
   "cell_type": "code",
   "execution_count": 84,
   "id": "fcc6be57-bdc7-4390-9fe9-c1c6e2a79247",
   "metadata": {},
   "outputs": [
    {
     "data": {
      "text/plain": [
       "4"
      ]
     },
     "execution_count": 84,
     "metadata": {},
     "output_type": "execute_result"
    }
   ],
   "source": [
    "a = [4,2,1,3]\n",
    "inversions(a, len(a))"
   ]
  },
  {
   "cell_type": "markdown",
   "id": "8dbbf31e-cb7f-4938-819a-d46e86b5f45c",
   "metadata": {},
   "source": [
    "Инверсия это пара индексов \n",
    "(\n",
    "i\n",
    ",\n",
    "j\n",
    ")\n",
    "(i,j), такая что \n",
    "i\n",
    "<\n",
    "j\n",
    "i<j и элементы \n",
    "a\n",
    "i\n",
    ">\n",
    "a\n",
    "j\n",
    "a \n",
    "i\n",
    "​\n",
    " >a \n",
    "j\n",
    "​\n",
    " . Определим таблицу инверсий \n",
    "t\n",
    "t как массив длина \n",
    "n\n",
    "n, в котором элемент с индексом \n",
    "i\n",
    "i соответствует числу инверсий в исходном массиве для числа \n",
    "i\n",
    "+\n",
    "1\n",
    "i+1. Другими словами, \n",
    "t\n",
    "[\n",
    "i\n",
    "]\n",
    "t[i] равно числу элементов в исходном массиве слева от \n",
    "i\n",
    "+\n",
    "1\n",
    "i+1, которые больше него. Например, для массива \n",
    "[\n",
    "4\n",
    ",\n",
    "2\n",
    ",\n",
    "5\n",
    ",\n",
    "1\n",
    ",\n",
    "3\n",
    "]\n",
    "[4,2,5,1,3] таблица инверсий выглядит как \n",
    "[\n",
    "3\n",
    ",\n",
    "1\n",
    ",\n",
    "2\n",
    ",\n",
    "0\n",
    ",\n",
    "0\n",
    "]\n",
    "[3,1,2,0,0] (в исходном массиве три элемента больше \n",
    "1\n",
    "1 слева от нее, один элемент больше \n",
    "2\n",
    "2 слева от нее и два элемента больше \n",
    "3\n",
    "3 слева от нее)."
   ]
  },
  {
   "cell_type": "code",
   "execution_count": null,
   "id": "56182bdb-371a-4fe6-89de-fef76c39e559",
   "metadata": {},
   "outputs": [],
   "source": []
  },
  {
   "cell_type": "code",
   "execution_count": null,
   "id": "de4d347a-8aad-4bac-90b8-a667ae48c933",
   "metadata": {},
   "outputs": [],
   "source": []
  },
  {
   "cell_type": "markdown",
   "id": "f0f00c32-0d10-4d2f-8dd9-9979220e462a",
   "metadata": {},
   "source": [
    "### Merge sort"
   ]
  },
  {
   "cell_type": "markdown",
   "id": "894ab8dd-75b9-4f38-86de-41e9272693cb",
   "metadata": {},
   "source": [
    "Реализуйте сортировку слиянием. Вы не можете использовать стандартную функцию из библиотеки. Выведите отсортированный массив."
   ]
  },
  {
   "cell_type": "code",
   "execution_count": 4,
   "id": "e373c996-e484-41ba-b2c0-1d44785dcb90",
   "metadata": {},
   "outputs": [
    {
     "name": "stdin",
     "output_type": "stream",
     "text": [
      " 5 3 2 1\n"
     ]
    }
   ],
   "source": [
    "a = [int(x) for x in input().split(\" \")]\n",
    "n = len(a)"
   ]
  },
  {
   "cell_type": "code",
   "execution_count": 14,
   "id": "ef763862-f2e3-489f-9b3a-0403d6a51c7d",
   "metadata": {},
   "outputs": [],
   "source": [
    "def merge_sort(a: list) -> list: \n",
    "    if len(a) == 1:\n",
    "        return a\n",
    "    else: \n",
    "        mid = len(a) // 2\n",
    "        l = merge_sort(a[:mid])\n",
    "        r = merge_sort(a[mid:])\n",
    "        return merge(l, r)\n",
    "\n",
    "def merge(l, r):\n",
    "    i, j = 0, 0\n",
    "    ans = []\n",
    "    while i < len(l) and j < len(r):\n",
    "        if l[i] <= r[j]:\n",
    "            ans.append(l[i])\n",
    "            i += 1\n",
    "        else: \n",
    "            ans.append(r[j])\n",
    "            j += 1\n",
    "    ans += l[i:]\n",
    "    ans += r[j:]\n",
    "    return ans"
   ]
  },
  {
   "cell_type": "code",
   "execution_count": 15,
   "id": "5b00a781-6805-441b-aa18-0d95a90532f7",
   "metadata": {},
   "outputs": [
    {
     "name": "stdout",
     "output_type": "stream",
     "text": [
      "[1, 2, 3, 5]\n"
     ]
    }
   ],
   "source": [
    "res = merge_sort(a)\n",
    "print(res)"
   ]
  },
  {
   "cell_type": "markdown",
   "id": "d01ed348-d73d-46e2-a3e0-7136e79ff939",
   "metadata": {},
   "source": [
    "​Подсказка: подумайте, как можно модифицировать шаг слияния в алгоритме сортировки слиянием, чтобы подсчитать все инверсии (i,j), такие что i находится в левой половине массива, а j – в правой."
   ]
  },
  {
   "cell_type": "code",
   "execution_count": 32,
   "id": "e2b2f95d-ca2b-4b34-a253-690c1026b23c",
   "metadata": {},
   "outputs": [],
   "source": [
    "def merge_sort_count(a: list, counter: int = 0) -> (list, int):\n",
    "    if len(a) == 1:\n",
    "        return a, counter\n",
    "    else:\n",
    "        mid = len(a) // 2\n",
    "        left, counter = merge_sort_count(a[:mid], counter)\n",
    "        right, counter = merge_sort_count(a[mid:], counter)\n",
    "        return merge_count(left, right, counter)\n",
    "\n",
    "def merge_count(l, r, counter):\n",
    "    i, j = 0, 0\n",
    "    ans = []\n",
    "    while i < len(l) and j < len(r):\n",
    "        if l[i] <= r[j]:\n",
    "            ans.append(l[i])\n",
    "            i += 1\n",
    "        else:\n",
    "            ans.append(r[j])\n",
    "            j += 1\n",
    "            counter += len(l) - i\n",
    "    ans += l[i:]\n",
    "    ans += r[j:]\n",
    "    return ans, counter\n"
   ]
  },
  {
   "cell_type": "code",
   "execution_count": 33,
   "id": "09bace55-905d-42ee-af17-c2bdf243b619",
   "metadata": {},
   "outputs": [
    {
     "name": "stdout",
     "output_type": "stream",
     "text": [
      "[1, 2, 3, 5] 6\n"
     ]
    }
   ],
   "source": [
    "sorted_array, inv_count = merge_sort_count(a)\n",
    "print(sorted_array, inv_count)"
   ]
  },
  {
   "cell_type": "code",
   "execution_count": null,
   "id": "c9252372-caa1-4b86-b847-ffb7a2b1e002",
   "metadata": {},
   "outputs": [],
   "source": []
  },
  {
   "cell_type": "code",
   "execution_count": null,
   "id": "5df9131b-b7c6-4a08-bb9f-275aca2808c8",
   "metadata": {},
   "outputs": [],
   "source": []
  },
  {
   "cell_type": "code",
   "execution_count": null,
   "id": "641cc187-4c61-48bd-aaa3-a8a911ee5e51",
   "metadata": {},
   "outputs": [],
   "source": []
  },
  {
   "cell_type": "code",
   "execution_count": null,
   "id": "86dadab0-97c1-4edb-8a02-8c225accc081",
   "metadata": {},
   "outputs": [],
   "source": []
  },
  {
   "cell_type": "code",
   "execution_count": null,
   "id": "e04a639d-da31-4e35-b3d0-6f0040d6ab00",
   "metadata": {},
   "outputs": [],
   "source": []
  },
  {
   "cell_type": "markdown",
   "id": "2d01fe53-84e2-4ec1-85f1-fe9310821ff7",
   "metadata": {},
   "source": [
    "### Binary search"
   ]
  },
  {
   "cell_type": "markdown",
   "id": "d0faea59-b64b-4d93-9409-b6c9b044d317",
   "metadata": {},
   "source": [
    "На книжной полке стоят \n",
    "n\n",
    "n книг, отсортированные по возрастанию по числу страниц. Вы хотите успеть прочитать одну книгу до встречи, которая состоится через \n",
    "k\n",
    "k минут. Допустим, что для прочтения одной страницы необходима одна минута. Вы хотите выбрать самую длинную книгу, которую можно успеть прочитать. Узнать число страниц в книге можно, только сняв ее с полки. Какое минимальное число книг Вам придется проверить, прежде чем Вы гарантированно найдете желаемую?"
   ]
  },
  {
   "cell_type": "code",
   "execution_count": 40,
   "id": "22a60e39-c7e1-4671-91ad-487c2d8093c7",
   "metadata": {},
   "outputs": [
    {
     "name": "stdin",
     "output_type": "stream",
     "text": [
      " 10 30\n",
      " 10 23 29 30 35 72 89 112 239 566\n"
     ]
    },
    {
     "name": "stdout",
     "output_type": "stream",
     "text": [
      "72 5 1 10\n",
      "I am here\n",
      "30 3\n",
      "1\n"
     ]
    }
   ],
   "source": [
    "n, k = map(int, input().split())\n",
    "pages = list(map(int, input().split()))\n",
    "\n",
    "left, right = 0, n-1\n",
    "mid = (left + right) // 2\n",
    "counter = 0 \n",
    "\n",
    "while pages[mid] != k: \n",
    "    print(pages[mid], mid, left, right)\n",
    "    if pages[mid] > k:\n",
    "        print(\"I am here\")\n",
    "        right = mid\n",
    "    else:\n",
    "        print(\"or here\")\n",
    "        left = mid\n",
    "    mid = (left + right) // 2\n",
    "    counter += 1\n",
    "    print(pages[mid], mid)\n",
    "\n",
    "print(counter)\n"
   ]
  },
  {
   "cell_type": "code",
   "execution_count": 3,
   "id": "4d528716-b252-4eb1-aa36-75a43cda0616",
   "metadata": {},
   "outputs": [
    {
     "name": "stdin",
     "output_type": "stream",
     "text": [
      " 10 30\n",
      " 10 23 29 30 35 72 89 112 239 566\n"
     ]
    },
    {
     "name": "stdout",
     "output_type": "stream",
     "text": [
      "4\n"
     ]
    }
   ],
   "source": [
    "n, k = map(int, input().split())\n",
    "pages = list(map(int, input().split()))\n",
    "\n",
    "left, right = 0, n-1\n",
    "counter = 0 \n",
    "\n",
    "while left <= right:\n",
    "    mid = (left + right) // 2\n",
    "    counter += 1\n",
    "\n",
    "    if pages[mid] == k:\n",
    "        print(counter)\n",
    "        break\n",
    "    elif pages[mid] < k:\n",
    "        left = mid + 1\n",
    "    else:\n",
    "        right = mid - 1\n"
   ]
  }
 ],
 "metadata": {
  "kernelspec": {
   "display_name": "Python 3 (ipykernel)",
   "language": "python",
   "name": "python3"
  },
  "language_info": {
   "codemirror_mode": {
    "name": "ipython",
    "version": 3
   },
   "file_extension": ".py",
   "mimetype": "text/x-python",
   "name": "python",
   "nbconvert_exporter": "python",
   "pygments_lexer": "ipython3",
   "version": "3.9.19"
  }
 },
 "nbformat": 4,
 "nbformat_minor": 5
}
